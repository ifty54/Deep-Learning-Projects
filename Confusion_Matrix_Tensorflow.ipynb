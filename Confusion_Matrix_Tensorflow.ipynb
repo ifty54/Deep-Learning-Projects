{
  "nbformat": 4,
  "nbformat_minor": 0,
  "metadata": {
    "colab": {
      "provenance": []
    },
    "kernelspec": {
      "name": "python3",
      "display_name": "Python 3"
    },
    "language_info": {
      "name": "python"
    }
  },
  "cells": [
    {
      "cell_type": "markdown",
      "source": [
        "#Confusion Matrix\n",
        "\n",
        "*  true positive, false positive, true negative, false negative\n",
        "*  Precision and Recall\n",
        "*  F1 score\n",
        "\n",
        "\n",
        "\n"
      ],
      "metadata": {
        "id": "r3yh5ZYyR5tf"
      }
    },
    {
      "cell_type": "code",
      "execution_count": 3,
      "metadata": {
        "id": "2eyvrAsdR3vC"
      },
      "outputs": [],
      "source": [
        "import matplotlib.pyplot as plt\n",
        "from sklearn.metrics import confusion_matrix , classification_report\n",
        "import pandas as pd\n",
        "import seaborn as sns"
      ]
    },
    {
      "cell_type": "code",
      "source": [
        "import tensorflow as tf\n",
        "\n",
        "y_true = tf.constant([1, 0, 2, 1, 2, 0])\n",
        "y_pred = tf.constant([1, 0, 1, 2, 2, 0])\n",
        "\n",
        "cmatrix = tf.math.confusion_matrix(labels=y_true, predictions=y_pred)\n",
        "print(cmatrix)"
      ],
      "metadata": {
        "colab": {
          "base_uri": "https://localhost:8080/"
        },
        "id": "KVn9c-uLSX4c",
        "outputId": "ea96b43a-7f59-415c-c357-4daaf7862ff8"
      },
      "execution_count": 15,
      "outputs": [
        {
          "output_type": "stream",
          "name": "stdout",
          "text": [
            "tf.Tensor(\n",
            "[[2 0 0]\n",
            " [0 1 1]\n",
            " [0 1 1]], shape=(3, 3), dtype=int32)\n"
          ]
        }
      ]
    },
    {
      "cell_type": "code",
      "source": [
        "plt.figure(figsize=(5, 5))\n",
        "sns.heatmap(cmatrix, annot=True, fmt='d', cmap='Blues')\n",
        "plt.xlabel('Predicted Labels')\n",
        "plt.ylabel('True Labels')\n",
        "plt.show()\n"
      ],
      "metadata": {
        "colab": {
          "base_uri": "https://localhost:8080/",
          "height": 470
        },
        "id": "nT-ZcqaQor1u",
        "outputId": "b2095d66-8702-4881-860b-d89ddfd8419b"
      },
      "execution_count": 16,
      "outputs": [
        {
          "output_type": "display_data",
          "data": {
            "text/plain": [
              "<Figure size 500x500 with 2 Axes>"
            ],
            "image/png": "[encoded data removed]"
          },
          "metadata": {}
        }
      ]
    },
    {
      "cell_type": "code",
      "source": [
        "# Assuming 'cmatrix' is computed from the first code snippet\n",
        "\n",
        "# Calculate accuracy\n",
        "accuracy = tf.reduce_sum(tf.linalg.diag_part(cmatrix)) / tf.reduce_sum(cmatrix)\n",
        "\n",
        "# Calculate precision, recall, and F1-score\n",
        "precision = tf.linalg.diag_part(cmatrix) / tf.reduce_sum(cmatrix, axis=0)\n",
        "recall = tf.linalg.diag_part(cmatrix) / tf.reduce_sum(cmatrix, axis=1)\n",
        "f1_score = 2 * precision * recall / (precision + recall)\n",
        "\n",
        "print(\"Accuracy:\", accuracy.numpy())\n",
        "print(\"Precision:\", precision.numpy())\n",
        "print(\"Recall:\", recall.numpy())\n",
        "print(\"F1-Score:\", f1_score.numpy())\n"
      ],
      "metadata": {
        "colab": {
          "base_uri": "https://localhost:8080/"
        },
        "id": "j7ezM1g9oz-T",
        "outputId": "a9cbc001-5522-422f-9818-7c6bf3ceef1e"
      },
      "execution_count": 17,
      "outputs": [
        {
          "output_type": "stream",
          "name": "stdout",
          "text": [
            "Accuracy: 0.6666666666666666\n",
            "Precision: [1.  0.5 0.5]\n",
            "Recall: [1.  0.5 0.5]\n",
            "F1-Score: [1.  0.5 0.5]\n"
          ]
        }
      ]
    }
  ]
}