{
  "nbformat": 4,
  "nbformat_minor": 0,
  "metadata": {
    "colab": {
      "provenance": []
    },
    "kernelspec": {
      "name": "python3",
      "display_name": "Python 3"
    },
    "language_info": {
      "name": "python"
    }
  },
  "cells": [
    {
      "cell_type": "markdown",
      "source": [
        "# Tensorflow Input Pipeline\n",
        "a critical component of building efficient and scalable machine learning models"
      ],
      "metadata": {
        "id": "lC7pR3bxtMAB"
      }
    },
    {
      "cell_type": "code",
      "execution_count": 2,
      "metadata": {
        "id": "Mng2OH_NtLaq"
      },
      "outputs": [],
      "source": [
        "import tensorflow as tf"
      ]
    },
    {
      "cell_type": "code",
      "source": [
        "#Creating tf dataset from list\n",
        "n_sales = [11, 19, -10, 31, -1, 52, 24, 31]\n",
        "\n",
        "tf_dataset = tf.data.Dataset.from_tensor_slices(n_sales)\n",
        "tf_dataset"
      ],
      "metadata": {
        "colab": {
          "base_uri": "https://localhost:8080/"
        },
        "id": "LQuRGrPdtSyn",
        "outputId": "f97f1164-1027-4ea8-8a38-2aa0ea8dc574"
      },
      "execution_count": 5,
      "outputs": [
        {
          "output_type": "execute_result",
          "data": {
            "text/plain": [
              "<_TensorSliceDataset element_spec=TensorSpec(shape=(), dtype=tf.int32, name=None)>"
            ]
          },
          "metadata": {},
          "execution_count": 5
        }
      ]
    },
    {
      "cell_type": "code",
      "source": [
        "#Iteration\n",
        "for sales in tf_dataset:\n",
        "  print(sales.numpy())"
      ],
      "metadata": {
        "colab": {
          "base_uri": "https://localhost:8080/"
        },
        "id": "5AzTp-MTt1bZ",
        "outputId": "782964ba-c6a3-4531-ce04-667f0a362cd7"
      },
      "execution_count": 6,
      "outputs": [
        {
          "output_type": "stream",
          "name": "stdout",
          "text": [
            "11\n",
            "19\n",
            "-10\n",
            "31\n",
            "-1\n",
            "52\n",
            "24\n",
            "31\n"
          ]
        }
      ]
    },
    {
      "cell_type": "code",
      "source": [
        "for sales in tf_dataset.as_numpy_iterator():\n",
        "    print(sales)"
      ],
      "metadata": {
        "colab": {
          "base_uri": "https://localhost:8080/"
        },
        "id": "uX9feAgV_H0I",
        "outputId": "9a5ac63c-9110-47ba-8ecb-27623634c6b8"
      },
      "execution_count": 7,
      "outputs": [
        {
          "output_type": "stream",
          "name": "stdout",
          "text": [
            "11\n",
            "19\n",
            "-10\n",
            "31\n",
            "-1\n",
            "52\n",
            "24\n",
            "31\n"
          ]
        }
      ]
    },
    {
      "cell_type": "code",
      "source": [
        "#Filtering (x>0)\n",
        "tf_dataset = tf_dataset.filter(lambda x: x>0)\n",
        "for sales in tf_dataset.as_numpy_iterator():\n",
        "  print(sales)"
      ],
      "metadata": {
        "colab": {
          "base_uri": "https://localhost:8080/"
        },
        "id": "3FrpfuQRuB5K",
        "outputId": "0aa3c56b-e26e-44e8-8886-b6cff9e5ce46"
      },
      "execution_count": 8,
      "outputs": [
        {
          "output_type": "stream",
          "name": "stdout",
          "text": [
            "11\n",
            "19\n",
            "31\n",
            "52\n",
            "24\n",
            "31\n"
          ]
        }
      ]
    },
    {
      "cell_type": "code",
      "source": [
        "#Converting currency (assuming 1 USD = 110 BDT)\n",
        "tf_dataset = tf_dataset.map(lambda x: x*110)\n",
        "for sales in tf_dataset.as_numpy_iterator():\n",
        "  print(sales)"
      ],
      "metadata": {
        "colab": {
          "base_uri": "https://localhost:8080/"
        },
        "id": "8UQuGMuD_P0w",
        "outputId": "118d3907-3441-423d-de27-7b9a4c23b54e"
      },
      "execution_count": 9,
      "outputs": [
        {
          "output_type": "stream",
          "name": "stdout",
          "text": [
            "1210\n",
            "2090\n",
            "3410\n",
            "5720\n",
            "2640\n",
            "3410\n"
          ]
        }
      ]
    },
    {
      "cell_type": "code",
      "source": [
        "#Shuffling\n",
        "tf_dataset = tf_dataset.shuffle(2)\n",
        "for sales in tf_dataset.as_numpy_iterator():\n",
        "    print(sales)"
      ],
      "metadata": {
        "colab": {
          "base_uri": "https://localhost:8080/"
        },
        "id": "8kqyUVLLBVbw",
        "outputId": "320c105e-96a5-4a01-cebf-859c947ee563"
      },
      "execution_count": 10,
      "outputs": [
        {
          "output_type": "stream",
          "name": "stdout",
          "text": [
            "2090\n",
            "3410\n",
            "5720\n",
            "1210\n",
            "2640\n",
            "3410\n"
          ]
        }
      ]
    },
    {
      "cell_type": "code",
      "source": [
        "#Batching\n",
        "for sales_batch in tf_dataset.batch(2):\n",
        "    print(sales_batch.numpy())"
      ],
      "metadata": {
        "colab": {
          "base_uri": "https://localhost:8080/"
        },
        "id": "FjXLSC2UBYZi",
        "outputId": "6a3c7f4f-0b84-452e-9652-f74d5115298a"
      },
      "execution_count": 11,
      "outputs": [
        {
          "output_type": "stream",
          "name": "stdout",
          "text": [
            "[2090 1210]\n",
            "[5720 2640]\n",
            "[3410 3410]\n"
          ]
        }
      ]
    },
    {
      "cell_type": "markdown",
      "source": [
        " ## Now, operate all the things in one shot!"
      ],
      "metadata": {
        "id": "Qe4a3wIjBfbw"
      }
    },
    {
      "cell_type": "code",
      "source": [
        "tf_dataset = tf.data.Dataset.from_tensor_slices(n_sales)\n",
        "\n",
        "tf_dataset = tf_dataset.filter(lambda x:x>0).map(lambda y:y*110).shuffle(2).batch(2)\n",
        "\n",
        "for sales in tf_dataset.as_numpy_iterator():\n",
        "  print(sales)"
      ],
      "metadata": {
        "colab": {
          "base_uri": "https://localhost:8080/"
        },
        "id": "6_5jgviLBdD-",
        "outputId": "45172922-5ac6-404e-9b44-82878b92bbcd"
      },
      "execution_count": 13,
      "outputs": [
        {
          "output_type": "stream",
          "name": "stdout",
          "text": [
            "[1210 3410]\n",
            "[5720 2640]\n",
            "[3410 2090]\n"
          ]
        }
      ]
    }
  ]
}