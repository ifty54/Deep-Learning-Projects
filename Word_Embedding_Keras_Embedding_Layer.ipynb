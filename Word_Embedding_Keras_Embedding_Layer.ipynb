{
  "nbformat": 4,
  "nbformat_minor": 0,
  "metadata": {
    "colab": {
      "provenance": []
    },
    "kernelspec": {
      "name": "python3",
      "display_name": "Python 3"
    },
    "language_info": {
      "name": "python"
    }
  },
  "cells": [
    {
      "cell_type": "markdown",
      "source": [
        "# Word Embedding\n",
        "\n",
        "##Short Food Reviews Analysis\n",
        "### Features: `Reviews`\n",
        "### Target: `Sentiment`"
      ],
      "metadata": {
        "id": "41-2rKkGTD6P"
      }
    },
    {
      "cell_type": "code",
      "execution_count": 213,
      "metadata": {
        "id": "m6zbBru0PD2S"
      },
      "outputs": [],
      "source": [
        "import numpy as np\n",
        "import pandas as pd\n",
        "import tensorflow as tf\n",
        "from tensorflow import keras\n",
        "from keras import preprocessing\n",
        "from tensorflow.keras.preprocessing.text import one_hot\n",
        "from tensorflow.keras.preprocessing.sequence import pad_sequences\n",
        "from tensorflow.keras.models import Sequential\n",
        "from tensorflow.keras.layers import Dense\n",
        "from tensorflow.keras.layers import Flatten\n",
        "from tensorflow.keras.layers import Embedding\n",
        "\n"
      ]
    },
    {
      "cell_type": "markdown",
      "source": [
        "## Custom Generated Reviews with Sentiments"
      ],
      "metadata": {
        "id": "i9FwgDkSxHEj"
      }
    },
    {
      "cell_type": "code",
      "source": [
        "reviews = ['nice food',\n",
        "        'amazing restaurant',\n",
        "        'too good',\n",
        "        'just loved it!',\n",
        "        'will go again',\n",
        "        'horrible food',\n",
        "        'never go there',\n",
        "        'poor service',\n",
        "        'poor quality',\n",
        "        'needs improvement',\n",
        "        'excellent experience',\n",
        "        'delicious dishes',\n",
        "        'perfect ambiance',\n",
        "        'highly recommended',\n",
        "        'great place',\n",
        "        'awful food quality',\n",
        "        'avoid this place',\n",
        "        'terrible service',\n",
        "        'disappointing experience',\n",
        "        'requires improvement']\n",
        "\n",
        "sentiment = np.array([1,1,1,1,1,0,0,0,0,0,1, 1, 1, 1, 1, 0, 0, 0, 0, 0])"
      ],
      "metadata": {
        "id": "HkscraJeTIWd"
      },
      "execution_count": 194,
      "outputs": []
    },
    {
      "cell_type": "markdown",
      "source": [
        "### Converting a given text into one-hot encoding\n",
        "\n",
        "on below, 30 specifies the size of the vocabulary, which is the total number of unique words in your corpus."
      ],
      "metadata": {
        "id": "Iyc7Zmuhv04_"
      }
    },
    {
      "cell_type": "code",
      "source": [
        "one_hot(\"highly recommended\",30)"
      ],
      "metadata": {
        "colab": {
          "base_uri": "https://localhost:8080/"
        },
        "id": "z-41hqKGrYtm",
        "outputId": "6a59d840-f7be-4650-a5c8-67f86733089d"
      },
      "execution_count": 195,
      "outputs": [
        {
          "output_type": "execute_result",
          "data": {
            "text/plain": [
              "[3, 3]"
            ]
          },
          "metadata": {},
          "execution_count": 195
        }
      ]
    },
    {
      "cell_type": "code",
      "source": [
        "vocab_size = 30\n",
        "encoded_reviews = [one_hot(d, vocab_size) for d in reviews]\n",
        "print(encoded_reviews)"
      ],
      "metadata": {
        "colab": {
          "base_uri": "https://localhost:8080/"
        },
        "id": "2RoPyiiZrkIZ",
        "outputId": "986fccd6-c8a5-499d-c851-fd72e0d361e2"
      },
      "execution_count": 196,
      "outputs": [
        {
          "output_type": "stream",
          "name": "stdout",
          "text": [
            "[[20, 1], [18, 13], [19, 10], [29, 17, 20], [8, 5, 27], [16, 1], [8, 5, 5], [9, 24], [9, 8], [16, 12], [19, 1], [23, 26], [1, 28], [3, 3], [16, 8], [23, 1, 8], [8, 3, 8], [26, 24], [3, 1], [8, 12]]\n"
          ]
        }
      ]
    },
    {
      "cell_type": "markdown",
      "source": [
        "### Adding padding to make all sentences same sized!"
      ],
      "metadata": {
        "id": "lKaV6Wbywdya"
      }
    },
    {
      "cell_type": "code",
      "source": [
        "max_length = 3\n",
        "padded_reviews = pad_sequences(encoded_reviews, maxlen=max_length, padding='post')\n",
        "print(padded_reviews)"
      ],
      "metadata": {
        "colab": {
          "base_uri": "https://localhost:8080/"
        },
        "id": "xwyA2nMZrlLq",
        "outputId": "9dd596dc-621f-4d72-f563-d6c8e7e31ec3"
      },
      "execution_count": 198,
      "outputs": [
        {
          "output_type": "stream",
          "name": "stdout",
          "text": [
            "[[20  1  0]\n",
            " [18 13  0]\n",
            " [19 10  0]\n",
            " [29 17 20]\n",
            " [ 8  5 27]\n",
            " [16  1  0]\n",
            " [ 8  5  5]\n",
            " [ 9 24  0]\n",
            " [ 9  8  0]\n",
            " [16 12  0]\n",
            " [19  1  0]\n",
            " [23 26  0]\n",
            " [ 1 28  0]\n",
            " [ 3  3  0]\n",
            " [16  8  0]\n",
            " [23  1  8]\n",
            " [ 8  3  8]\n",
            " [26 24  0]\n",
            " [ 3  1  0]\n",
            " [ 8 12  0]]\n"
          ]
        }
      ]
    },
    {
      "cell_type": "code",
      "source": [
        "embeded_vector_size = 5\n",
        "\n",
        "model = Sequential()\n",
        "model.add(Embedding(vocab_size, embeded_vector_size, input_length=max_length,name=\"embedding\"))\n",
        "model.add(Flatten())\n",
        "model.add(Dense(1, activation='sigmoid'))"
      ],
      "metadata": {
        "id": "acw61B7YrqRx"
      },
      "execution_count": 199,
      "outputs": []
    },
    {
      "cell_type": "code",
      "source": [
        "X = padded_reviews\n",
        "y = sentiment"
      ],
      "metadata": {
        "id": "lDQN3zOarrol"
      },
      "execution_count": 200,
      "outputs": []
    },
    {
      "cell_type": "code",
      "source": [
        "model.compile(optimizer='adam', loss='binary_crossentropy', metrics=['accuracy'])\n",
        "print(model.summary())"
      ],
      "metadata": {
        "colab": {
          "base_uri": "https://localhost:8080/"
        },
        "id": "TC2DMqcdrs2b",
        "outputId": "7bb0e281-3022-42a4-af85-732ca6428215"
      },
      "execution_count": 201,
      "outputs": [
        {
          "output_type": "stream",
          "name": "stdout",
          "text": [
            "Model: \"sequential_12\"\n",
            "_________________________________________________________________\n",
            " Layer (type)                Output Shape              Param #   \n",
            "=================================================================\n",
            " embedding (Embedding)       (None, 3, 5)              150       \n",
            "                                                                 \n",
            " flatten_12 (Flatten)        (None, 15)                0         \n",
            "                                                                 \n",
            " dense_12 (Dense)            (None, 1)                 16        \n",
            "                                                                 \n",
            "=================================================================\n",
            "Total params: 166\n",
            "Trainable params: 166\n",
            "Non-trainable params: 0\n",
            "_________________________________________________________________\n",
            "None\n"
          ]
        }
      ]
    },
    {
      "cell_type": "code",
      "source": [
        "model.fit(X, y, epochs=50, verbose=0)"
      ],
      "metadata": {
        "colab": {
          "base_uri": "https://localhost:8080/"
        },
        "id": "42TOFHkXruWQ",
        "outputId": "1fc839be-c933-44ce-a3bf-313471603a2d"
      },
      "execution_count": 202,
      "outputs": [
        {
          "output_type": "execute_result",
          "data": {
            "text/plain": [
              "<keras.callbacks.History at 0x7d4a4c146830>"
            ]
          },
          "metadata": {},
          "execution_count": 202
        }
      ]
    },
    {
      "cell_type": "markdown",
      "source": [
        "## Measuring Loss & Accuracy"
      ],
      "metadata": {
        "id": "UybbiqBaw6CB"
      }
    },
    {
      "cell_type": "code",
      "source": [
        "loss, accuracy = model.evaluate(X, y)\n",
        "accuracy"
      ],
      "metadata": {
        "colab": {
          "base_uri": "https://localhost:8080/"
        },
        "id": "Eo-rwWU2rwhU",
        "outputId": "30e8e775-87ed-4ca3-9c74-9c9d56b0c9ca"
      },
      "execution_count": 203,
      "outputs": [
        {
          "output_type": "stream",
          "name": "stdout",
          "text": [
            "1/1 [==============================] - 0s 109ms/step - loss: 0.6426 - accuracy: 0.9500\n"
          ]
        },
        {
          "output_type": "execute_result",
          "data": {
            "text/plain": [
              "0.949999988079071"
            ]
          },
          "metadata": {},
          "execution_count": 203
        }
      ]
    },
    {
      "cell_type": "markdown",
      "source": [
        "## Finding all the weights of each word!"
      ],
      "metadata": {
        "id": "i7p1pWZiw_eG"
      }
    },
    {
      "cell_type": "code",
      "source": [
        "weights = model.get_layer('embedding').get_weights()[0]\n",
        "len(weights)"
      ],
      "metadata": {
        "colab": {
          "base_uri": "https://localhost:8080/"
        },
        "id": "XEeCaF8bryJd",
        "outputId": "b586d065-ecb6-4ee5-c816-ac93bb4085eb"
      },
      "execution_count": 205,
      "outputs": [
        {
          "output_type": "execute_result",
          "data": {
            "text/plain": [
              "30"
            ]
          },
          "metadata": {},
          "execution_count": 205
        }
      ]
    },
    {
      "cell_type": "code",
      "source": [
        "weights[26] #represents `terrible`"
      ],
      "metadata": {
        "colab": {
          "base_uri": "https://localhost:8080/"
        },
        "id": "03TSIU6yr02X",
        "outputId": "e274e68c-6c9f-4023-e0c7-0d460b709d7c"
      },
      "execution_count": 209,
      "outputs": [
        {
          "output_type": "execute_result",
          "data": {
            "text/plain": [
              "array([-0.00196256, -0.10150034, -0.06435358, -0.07027328,  0.02802897],\n",
              "      dtype=float32)"
            ]
          },
          "metadata": {},
          "execution_count": 209
        }
      ]
    },
    {
      "cell_type": "code",
      "source": [
        "weights[23] #represents `awful`"
      ],
      "metadata": {
        "colab": {
          "base_uri": "https://localhost:8080/"
        },
        "id": "xFrPG7w8r1WK",
        "outputId": "38c15713-0e93-4781-c977-321e3d152d0a"
      },
      "execution_count": 210,
      "outputs": [
        {
          "output_type": "execute_result",
          "data": {
            "text/plain": [
              "array([-0.00018347,  0.01041231, -0.00303777,  0.00879696, -0.01719472],\n",
              "      dtype=float32)"
            ]
          },
          "metadata": {},
          "execution_count": 210
        }
      ]
    },
    {
      "cell_type": "markdown",
      "source": [
        "Look, both words are similar in meaning and the array value also indicates that"
      ],
      "metadata": {
        "id": "ajT_Wwzsu-kC"
      }
    },
    {
      "cell_type": "markdown",
      "source": [
        "#**Accuracy**: 94.999 or ~95%"
      ],
      "metadata": {
        "id": "dwjsNt8_wvLR"
      }
    }
  ]
}